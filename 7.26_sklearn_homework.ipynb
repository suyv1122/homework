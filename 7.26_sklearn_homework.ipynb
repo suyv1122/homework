{
 "cells": [
  {
   "cell_type": "code",
   "id": "initial_id",
   "metadata": {
    "collapsed": true,
    "ExecuteTime": {
     "end_time": "2025-07-30T02:32:25.883546Z",
     "start_time": "2025-07-30T02:32:24.763732Z"
    }
   },
   "source": [
    "'''上周因为备考linux补考几乎没有心情听课，后续跟上也变得很难了\n",
    "    这部分内容来自我与gpt重新补习了一遍流水线与特征工程的内容，大概用了八个小时\n",
    "    补全了一份与课案略有不同但我能理解的笔记，为了优先完成作业\n",
    "    故此没有深入理解sklearn各函数与类的具体实现，这是在今日分类问题补习完成之后\n",
    "    再去补习的内容\n",
    "\n",
    "    因此这次作业仅为具体实现一个封装流水线部分, 出现的所有内容便是补习的内容'''\n",
    "import sys\n",
    "assert sys.version_info >= (3, 7)   # 检查python版本\n",
    "from packaging import version\n",
    "import sklearn\n",
    "assert version.parse(sklearn.__version__) >= version.parse(\"1.0.1\")  # 检查sklearn版本"
   ],
   "outputs": [],
   "execution_count": 1
  },
  {
   "metadata": {
    "ExecuteTime": {
     "end_time": "2025-07-30T04:33:13.412431Z",
     "start_time": "2025-07-30T04:33:13.377004Z"
    }
   },
   "cell_type": "code",
   "source": [
    "from pathlib import Path\n",
    "import pandas as pd\n",
    "import tarfile\n",
    "import urllib.request\n",
    "\n",
    "def load_housing_data():\n",
    "    tarball_path = Path(\"datasets/housing.tgz\")\n",
    "    if not tarball_path.is_file():\n",
    "        Path(\"datasets\").mkdir(parents=True, exist_ok=True)\n",
    "        url = \"https://github.com/ageron/data/raw/main/housing.tgz\"\n",
    "        urllib.request.urlretrieve(url, tarball_path)\n",
    "    with tarfile.open(tarball_path) as housing_tarball:\n",
    "            housing_tarball.extractall(path=\"datasets\")\n",
    "    return pd.read_csv(Path(\"datasets/housing/housing.csv\"))\n",
    "\n",
    "housing = load_housing_data()\n",
    "# 由于预测差距接近百分之40到50，这部分是增加特征的特征工程\n",
    "# 计算额外的交互特征\n",
    "housing[\"rooms_per_household\"] = housing[\"total_rooms\"] / housing[\"households\"]\n",
    "housing[\"bedrooms_per_room\"] = housing[\"total_bedrooms\"] / housing[\"total_rooms\"]\n",
    "housing[\"population_per_household\"] = housing[\"population\"] / housing[\"households\"]"
   ],
   "id": "bb8cc93a2c41dfaf",
   "outputs": [],
   "execution_count": 65
  },
  {
   "metadata": {
    "ExecuteTime": {
     "end_time": "2025-07-30T04:33:14.812595Z",
     "start_time": "2025-07-30T04:33:14.707938Z"
    }
   },
   "cell_type": "code",
   "source": [
    "from sklearn.metrics import mean_squared_error\n",
    "from sklearn.pipeline import Pipeline\n",
    "from sklearn.preprocessing import StandardScaler\n",
    "from sklearn.impute import SimpleImputer\n",
    "from sklearn.linear_model import LinearRegression\n",
    "from sklearn.preprocessing import OneHotEncoder\n",
    "from sklearn.compose import ColumnTransformer\n",
    "from sklearn.model_selection import StratifiedShuffleSplit, GridSearchCV\n",
    "import numpy as np\n",
    "import pandas as pd\n",
    "# 数据划分 -> 特征分离 -> 填充缺失值 -> 数据归一化 -> 独热编码 ->\n",
    "# 数据划分部分\n",
    "housing['income_cat'] = pd.cut(housing['median_income'],\n",
    "                               bins= [0., 1.5, 3., 4.5, 6., np.inf],\n",
    "                               labels = [1,2,3,4,5])\n",
    "split = StratifiedShuffleSplit(n_splits = 3, test_size = 0.2, random_state = 35)\n",
    "for train_index, test_index in split.split(housing, housing['income_cat']):\n",
    "    strat_train_set = housing.loc[train_index]\n",
    "    strat_test_set = housing.loc[test_index]\n",
    "\n",
    "# 特征分离部分\n",
    "X_train = strat_train_set.drop('median_house_value', axis=1)\n",
    "y_train = strat_train_set['median_house_value']\n",
    "X_test = strat_test_set.drop('median_house_value', axis=1)\n",
    "y_test = strat_test_set['median_house_value']\n",
    "\n",
    "# 特征工程部分(缺失值，归一化，独热编码)\n",
    "num_attribs = list(X_train.drop('ocean_proximity', axis=1))\n",
    "cat_attribs = ['ocean_proximity']\n",
    "num_pipeline = Pipeline([\n",
    "    ('imputer', SimpleImputer(strategy='median')),          # 填充缺失值的封装管道\n",
    "    ('std_scaler', StandardScaler())                        # 数据归一化的封装管道\n",
    "])  # 数据预处理管道\n",
    "\n",
    "full_pipeline = ColumnTransformer([\n",
    "    ('num', num_pipeline, num_attribs),                     # 调用数据预处理管道\n",
    "    ('cat', OneHotEncoder(), cat_attribs)                   # 标签独热编码封装管道\n",
    "])  # 完整预处理管道\n",
    "tr_X_prepared = full_pipeline.fit_transform(X_train)\n",
    "te_X_prepared = full_pipeline.transform(X_test)\n",
    "\n",
    "# 模型训练部分\n",
    "lin_reg = LinearRegression()\n",
    "param_grid = [{\n",
    "    'fit_intercept': [True, False]\n",
    "}]\n",
    "grid_search = GridSearchCV(lin_reg, param_grid, cv=3,\n",
    "                           scoring='neg_mean_squared_error',\n",
    "                           return_train_score=True)\n",
    "grid_search.fit(tr_X_prepared, y_train)\n",
    "best_model = grid_search.best_estimator_\n",
    "\n",
    "# 效率验证部分\n",
    "final_predictions = best_model.predict(te_X_prepared)\n",
    "final_rmse =np.sqrt(mean_squared_error(y_test, final_predictions))\n",
    "best_score = grid_search.best_score_\n",
    "print(\"预测值:\", final_predictions[:5])\n",
    "print(\"实际值:\", y_test.values[:5])\n",
    "print(\"finalRMSE:\", final_rmse, \"|\", \"bestSCORE:\",best_score)"
   ],
   "id": "e0b08a337ac25c88",
   "outputs": [
    {
     "name": "stdout",
     "output_type": "stream",
     "text": [
      "预测值: [ 45863.32579656 213038.00034456 129479.14195667 138932.81560636\n",
      " 163286.48554053]\n",
      "实际值: [ 58600. 151800. 162500. 143700. 135600.]\n",
      "finalRMSE: 67612.37507432092 | bestSCORE: -4933248487.861487\n"
     ]
    }
   ],
   "execution_count": 66
  }
 ],
 "metadata": {
  "kernelspec": {
   "display_name": "Python 3",
   "language": "python",
   "name": "python3"
  },
  "language_info": {
   "codemirror_mode": {
    "name": "ipython",
    "version": 2
   },
   "file_extension": ".py",
   "mimetype": "text/x-python",
   "name": "python",
   "nbconvert_exporter": "python",
   "pygments_lexer": "ipython2",
   "version": "2.7.6"
  }
 },
 "nbformat": 4,
 "nbformat_minor": 5
}
