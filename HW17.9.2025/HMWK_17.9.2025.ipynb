{
 "cells": [
  {
   "cell_type": "code",
   "execution_count": null,
   "id": "initial_id",
   "metadata": {
    "collapsed": true
   },
   "outputs": [],
   "source": [
    "# 1. 搭一个带有卷积层的神经网络 tf.keras.layers.Conv2D()\n",
    "# 输入 -> 卷积 -> 摊平 -> 全连接\n",
    "\n",
    "# 2. 去手写数字/时尚衣服/彩图数据 试一下，能不能训练\n",
    "import tensorflow as tf\n",
    "\n",
    "# 加载Fashion MNIST。它已经被打乱并分成了训练集（60000个图像）和测试集（10000个图像）\n",
    "fashion_mnist = tf.keras.datasets.fashion_mnist.load_data()\n",
    "(X_train_full, y_train_full), (X_test , y_test) = fashion_mnist\n",
    "\n",
    "# 保留训练集中的最后5000个图像进行验证\n",
    "X_train, y_train = X_train_full[:-5000], y_train_full[:-5000]\n",
    "X_valid, y_valid = X_train_full[-5000:], y_train_full[-5000:]\n",
    "\n",
    "X_train, X_valid, X_test = X_train / 255., X_valid / 255., X_test / 255.\n",
    "\n",
    "model = tf.keras.Sequential([\n",
    "        tf.keras.layers.Conv2D(filters=16, kernel_size=5, strides=1, padding='same', input_shape=(28,28,1)), # (5,5,1)*16 (30,30)\n",
    "        tf.keras.layers.Flatten(),\n",
    "\n",
    "        tf.keras.layers.BatchNormalization(),\n",
    "        tf.keras.layers.Dense(300, activation=\"relu\",\n",
    "                        kernel_initializer=\"he_normal\"),\n",
    "\n",
    "        tf.keras.layers.BatchNormalization(),\n",
    "        tf.keras.layers.Dense(100, activation=\"relu\",\n",
    "                        kernel_initializer=\"he_normal\"),\n",
    "\n",
    "        tf.keras.layers.BatchNormalization(),\n",
    "        tf.keras.layers.Dense(10, activation=\"softmax\")\n",
    "])\n",
    "model.compile(loss=\"sparse_categorical_crossentropy\",\n",
    "              optimizer=tf.keras.optimizers.legacy.Adam(),\n",
    "              metrics=[\"accuracy\"])\n",
    "\n",
    "history = model.fit(X_train, y_train, validation_data=(X_valid, y_valid), epochs=5)"
   ]
  }
 ],
 "metadata": {
  "kernelspec": {
   "display_name": "Python 3",
   "language": "python",
   "name": "python3"
  },
  "language_info": {
   "codemirror_mode": {
    "name": "ipython",
    "version": 2
   },
   "file_extension": ".py",
   "mimetype": "text/x-python",
   "name": "python",
   "nbconvert_exporter": "python",
   "pygments_lexer": "ipython2",
   "version": "2.7.6"
  }
 },
 "nbformat": 4,
 "nbformat_minor": 5
}
