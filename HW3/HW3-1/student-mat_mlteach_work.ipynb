{
 "cells": [
  {
   "cell_type": "code",
   "id": "initial_id",
   "metadata": {
    "collapsed": true,
    "ExecuteTime": {
     "end_time": "2025-08-04T12:18:39.941159Z",
     "start_time": "2025-08-04T12:18:39.919144Z"
    }
   },
   "source": [
    "'''\n",
    "任务：\n",
    "使用线性回归 和决策树回归预测学生期末成绩，并比较模型性能。数据集采用UCI机器学习库中的\"学生表现数据集\"。\n",
    "数据文件：student-mat.csv\n",
    "实现步骤：\n",
    "1. 将数据加载到Pandas DataFrame\n",
    "2. 分离特征(X)和目标变量(y)\n",
    "3. 按80-20划分训练测试集(random_state=42)\n",
    "4. 使用StandardScaler标准化特征\n",
    "5. 训练以下模型：\n",
    "   - 线性回归\n",
    "   - 决策树回归\n",
    "   - 多项式回归\n",
    "6. 计算各模型的MSE分数\n",
    "7. 输出评估指标\n",
    "'''\n",
    "\n",
    "# 数据读取\n",
    "import pandas as pd\n",
    "import numpy as np\n",
    "original_student = pd.read_csv('/Users/paradice/PyCharmMiscProject/面试题/student-mat.csv', sep = ';')\n",
    "original_student = original_student.drop(['G1', 'G2'], axis = 1)\n",
    "pd.cut(original_student['G3'], 5)\n",
    "original_X = original_student.drop(['G3'], axis = 1)    # 原始特征集\n",
    "original_y = original_student['G3']                     # 原始标签集\n",
    "original_y.head()"
   ],
   "outputs": [
    {
     "data": {
      "text/plain": [
       "0     6\n",
       "1     6\n",
       "2    10\n",
       "3    15\n",
       "4    10\n",
       "Name: G3, dtype: int64"
      ]
     },
     "execution_count": 5,
     "metadata": {},
     "output_type": "execute_result"
    }
   ],
   "execution_count": 5
  },
  {
   "metadata": {
    "ExecuteTime": {
     "end_time": "2025-08-01T06:49:15.213039Z",
     "start_time": "2025-08-01T06:49:15.177528Z"
    }
   },
   "cell_type": "code",
   "source": [
    "'''\n",
    "未通过管道封装的前期代码\n",
    "from sklearn.model_selection import train_test_split\n",
    "X_train, X_test, y_train, y_test = train_test_split(original_X, original_y, test_size = 0.2, random_state = 42, shuffle = True)\n",
    "from sklearn.preprocessing import OneHotEncoder, StandardScaler\n",
    "cat_encoder = OneHotEncoder()\n",
    "X_train_cat = X_train[['school', 'sex', 'address', 'famsize', 'Pstatus', 'Mjob', 'Fjob', 'reason', 'guardian', 'schoolsup', 'famsup', 'paid', 'activities', 'nursery', 'higher', 'internet', 'romantic']]\n",
    "X_train_num = X_train.drop(['school', 'sex', 'address', 'famsize', 'Pstatus', 'Mjob', 'Fjob', 'reason', 'guardian', 'schoolsup', 'famsup', 'paid', 'activities', 'nursery', 'higher', 'internet', 'romantic'], axis = 1)\n",
    "X_train_cat_1hot = cat_encoder.fit_transform(X_train_cat)\n",
    "scaler = StandardScaler()\n",
    "X_train_num_scaled = scaler.fit_transform(X_train_num)\n",
    "X_train_num_scaled_df = pd.DataFrame(X_train_num_scaled, columns = X_train_num.columns)\n",
    "from scipy import sparse\n",
    "student_X_prepared = sparse.hstack([X_train_num_scaled_df,X_train_cat_1hot])\n",
    "from sklearn.linear_model import LinearRegression\n",
    "from sklearn.tree import DecisionTreeRegressor\n",
    "lin_reg = LinearRegression()\n",
    "tree_reg = DecisionTreeRegressor()\n",
    "lin_reg.fit(student_X_prepared, y_train)\n",
    "tree_reg.fit(student_X_prepared, y_train)\n",
    "'''"
   ],
   "id": "ddcb5266f984af59",
   "outputs": [
    {
     "data": {
      "text/plain": [
       "DecisionTreeRegressor()"
      ],
      "text/html": [
       "<style>#sk-container-id-2 {color: black;}#sk-container-id-2 pre{padding: 0;}#sk-container-id-2 div.sk-toggleable {background-color: white;}#sk-container-id-2 label.sk-toggleable__label {cursor: pointer;display: block;width: 100%;margin-bottom: 0;padding: 0.3em;box-sizing: border-box;text-align: center;}#sk-container-id-2 label.sk-toggleable__label-arrow:before {content: \"▸\";float: left;margin-right: 0.25em;color: #696969;}#sk-container-id-2 label.sk-toggleable__label-arrow:hover:before {color: black;}#sk-container-id-2 div.sk-estimator:hover label.sk-toggleable__label-arrow:before {color: black;}#sk-container-id-2 div.sk-toggleable__content {max-height: 0;max-width: 0;overflow: hidden;text-align: left;background-color: #f0f8ff;}#sk-container-id-2 div.sk-toggleable__content pre {margin: 0.2em;color: black;border-radius: 0.25em;background-color: #f0f8ff;}#sk-container-id-2 input.sk-toggleable__control:checked~div.sk-toggleable__content {max-height: 200px;max-width: 100%;overflow: auto;}#sk-container-id-2 input.sk-toggleable__control:checked~label.sk-toggleable__label-arrow:before {content: \"▾\";}#sk-container-id-2 div.sk-estimator input.sk-toggleable__control:checked~label.sk-toggleable__label {background-color: #d4ebff;}#sk-container-id-2 div.sk-label input.sk-toggleable__control:checked~label.sk-toggleable__label {background-color: #d4ebff;}#sk-container-id-2 input.sk-hidden--visually {border: 0;clip: rect(1px 1px 1px 1px);clip: rect(1px, 1px, 1px, 1px);height: 1px;margin: -1px;overflow: hidden;padding: 0;position: absolute;width: 1px;}#sk-container-id-2 div.sk-estimator {font-family: monospace;background-color: #f0f8ff;border: 1px dotted black;border-radius: 0.25em;box-sizing: border-box;margin-bottom: 0.5em;}#sk-container-id-2 div.sk-estimator:hover {background-color: #d4ebff;}#sk-container-id-2 div.sk-parallel-item::after {content: \"\";width: 100%;border-bottom: 1px solid gray;flex-grow: 1;}#sk-container-id-2 div.sk-label:hover label.sk-toggleable__label {background-color: #d4ebff;}#sk-container-id-2 div.sk-serial::before {content: \"\";position: absolute;border-left: 1px solid gray;box-sizing: border-box;top: 0;bottom: 0;left: 50%;z-index: 0;}#sk-container-id-2 div.sk-serial {display: flex;flex-direction: column;align-items: center;background-color: white;padding-right: 0.2em;padding-left: 0.2em;position: relative;}#sk-container-id-2 div.sk-item {position: relative;z-index: 1;}#sk-container-id-2 div.sk-parallel {display: flex;align-items: stretch;justify-content: center;background-color: white;position: relative;}#sk-container-id-2 div.sk-item::before, #sk-container-id-2 div.sk-parallel-item::before {content: \"\";position: absolute;border-left: 1px solid gray;box-sizing: border-box;top: 0;bottom: 0;left: 50%;z-index: -1;}#sk-container-id-2 div.sk-parallel-item {display: flex;flex-direction: column;z-index: 1;position: relative;background-color: white;}#sk-container-id-2 div.sk-parallel-item:first-child::after {align-self: flex-end;width: 50%;}#sk-container-id-2 div.sk-parallel-item:last-child::after {align-self: flex-start;width: 50%;}#sk-container-id-2 div.sk-parallel-item:only-child::after {width: 0;}#sk-container-id-2 div.sk-dashed-wrapped {border: 1px dashed gray;margin: 0 0.4em 0.5em 0.4em;box-sizing: border-box;padding-bottom: 0.4em;background-color: white;}#sk-container-id-2 div.sk-label label {font-family: monospace;font-weight: bold;display: inline-block;line-height: 1.2em;}#sk-container-id-2 div.sk-label-container {text-align: center;}#sk-container-id-2 div.sk-container {/* jupyter's `normalize.less` sets `[hidden] { display: none; }` but bootstrap.min.css set `[hidden] { display: none !important; }` so we also need the `!important` here to be able to override the default hidden behavior on the sphinx rendered scikit-learn.org. See: https://github.com/scikit-learn/scikit-learn/issues/21755 */display: inline-block !important;position: relative;}#sk-container-id-2 div.sk-text-repr-fallback {display: none;}</style><div id=\"sk-container-id-2\" class=\"sk-top-container\"><div class=\"sk-text-repr-fallback\"><pre>DecisionTreeRegressor()</pre><b>In a Jupyter environment, please rerun this cell to show the HTML representation or trust the notebook. <br />On GitHub, the HTML representation is unable to render, please try loading this page with nbviewer.org.</b></div><div class=\"sk-container\" hidden><div class=\"sk-item\"><div class=\"sk-estimator sk-toggleable\"><input class=\"sk-toggleable__control sk-hidden--visually\" id=\"sk-estimator-id-2\" type=\"checkbox\" checked><label for=\"sk-estimator-id-2\" class=\"sk-toggleable__label sk-toggleable__label-arrow\">DecisionTreeRegressor</label><div class=\"sk-toggleable__content\"><pre>DecisionTreeRegressor()</pre></div></div></div></div></div>"
      ]
     },
     "execution_count": 10,
     "metadata": {},
     "output_type": "execute_result"
    }
   ],
   "execution_count": 10
  },
  {
   "metadata": {
    "ExecuteTime": {
     "end_time": "2025-08-04T12:18:42.017867Z",
     "start_time": "2025-08-04T12:18:41.901334Z"
    }
   },
   "cell_type": "code",
   "source": [
    "from sklearn.pipeline import Pipeline\n",
    "from sklearn.preprocessing import OneHotEncoder, StandardScaler\n",
    "from sklearn.compose import ColumnTransformer\n",
    "from sklearn.linear_model import LinearRegression\n",
    "from sklearn.tree import DecisionTreeRegressor\n",
    "from sklearn.model_selection import train_test_split\n",
    "from sklearn.model_selection import GridSearchCV\n",
    "from sklearn.metrics import mean_squared_error\n",
    "\n",
    "# 划分测试集\n",
    "X_train, X_test, y_train, y_test = train_test_split(original_X, original_y, test_size = 0.2, random_state = 42, shuffle = True)\n",
    "\n",
    "\n",
    "# 拆分字符串与数值特征\n",
    "X_train_cat = X_train[['school', 'sex', 'address', 'famsize',\n",
    "                       'Pstatus', 'Mjob', 'Fjob', 'reason', 'guardian',\n",
    "                       'schoolsup', 'famsup', 'paid', 'activities',\n",
    "                       'nursery', 'higher', 'internet', 'romantic']]\n",
    "\n",
    "X_train_num = X_train.drop(['school', 'sex', 'address', 'famsize',\n",
    "                            'Pstatus', 'Mjob', 'Fjob', 'reason', 'guardian',\n",
    "                            'schoolsup', 'famsup', 'paid', 'activities',\n",
    "                            'nursery', 'higher', 'internet', 'romantic'], axis = 1)\n",
    "\n",
    "\n",
    "# 特征工程 多项式预处理\n",
    "from sklearn.preprocessing import PolynomialFeatures\n",
    "poly_sca_pipeline = Pipeline([\n",
    "    ('poly', PolynomialFeatures(degree = 2, include_bias = False)),\n",
    "    ('StandardScaler', StandardScaler())\n",
    "])\n",
    "num_attribs = list(X_train_num)\n",
    "cat_attribs = ['school', 'sex', 'address', 'famsize',\n",
    "               'Pstatus', 'Mjob', 'Fjob', 'reason',\n",
    "               'guardian', 'schoolsup', 'famsup', 'paid',\n",
    "               'activities', 'nursery', 'higher', 'internet', 'romantic']\n",
    "\n",
    "poly_full_pipeline = ColumnTransformer([('polynum', poly_sca_pipeline,num_attribs ),\n",
    "                                        ('cat', OneHotEncoder(), cat_attribs)])\n",
    "student_X_poly_prepared = poly_full_pipeline.fit_transform(X_train)\n",
    "student_X_test_poly_prepared = poly_full_pipeline.transform(X_test)\n",
    "\n",
    "# 特征工程 数据归一化与独热编码\n",
    "num_pipeline = Pipeline([\n",
    "    ('StandardScaler', StandardScaler())\n",
    "])\n",
    "X_train_num_scaled = num_pipeline.fit_transform(X_train_num)\n",
    "\n",
    "full_pipeline = ColumnTransformer([('num', num_pipeline, num_attribs),\n",
    "                                   ('cat', OneHotEncoder(), cat_attribs)])\n",
    "student_X_prepared = full_pipeline.fit_transform(X_train)\n",
    "student_X_test_prepared = full_pipeline.transform(X_test)\n",
    "\n",
    "\n",
    "# 模型训练部分\n",
    "model_Lin = LinearRegression()\n",
    "model_poly_Lin = LinearRegression()\n",
    "model_TreeReg = DecisionTreeRegressor()\n",
    "\n",
    "model_Lin.fit(student_X_prepared, y_train)\n",
    "model_poly_Lin.fit(student_X_poly_prepared, y_train)\n",
    "grid_search_TreeReg = GridSearchCV(model_TreeReg, param_grid={'max_depth': [3, 5, 10, None]},  cv = 3, scoring = 'neg_mean_squared_error', return_train_score = True)\n",
    "\n",
    "grid_search_TreeReg.fit(student_X_prepared, y_train)\n",
    "tree_training_model = grid_search_TreeReg.best_estimator_\n",
    "\n",
    "\n",
    "# 模型验证与得分\n",
    "from sklearn.metrics import r2_score\n",
    "y_pred_lin = model_Lin.predict(student_X_test_prepared)\n",
    "y_pred_poly_lin = model_poly_Lin.predict(student_X_test_poly_prepared)\n",
    "y_pred_tree = tree_training_model.predict(student_X_test_prepared)\n",
    "mse_lin = mean_squared_error(y_test, y_pred_lin)\n",
    "mse_poly_lin = mean_squared_error(y_test, y_pred_poly_lin)\n",
    "mse_tree = mean_squared_error(y_test, y_pred_tree)\n",
    "r2_lin = r2_score(y_test, y_pred_lin)\n",
    "r2_poly_lin = r2_score(y_test, y_pred_poly_lin)\n",
    "r2_tree = r2_score(y_test, y_pred_tree)\n",
    "print('线性回归预测均方误差：', mse_lin, '\\n'\n",
    "      '线性回归预测r2得分:', r2_lin, '\\n'\n",
    "      '多项式线性回归预测均方误差:', mse_poly_lin, '\\n'\n",
    "      '多项式线性回归预测r2得分:', r2_poly_lin, '\\n'\n",
    "      '决策树回归预测均方误差:', mse_tree, '\\n'\n",
    "      '决策树回归预测均方r2得分:', r2_tree, '\\n')"
   ],
   "id": "dc749e64ba3fbc1e",
   "outputs": [
    {
     "name": "stdout",
     "output_type": "stream",
     "text": [
      "线性回归预测均方误差： 17.603516168232204 \n",
      "线性回归预测r2得分: 0.14150326316743367 \n",
      "多项式线性回归预测均方误差: 24.240166579620748 \n",
      "多项式线性回归预测r2得分: -0.18215609370341213 \n",
      "决策树回归预测均方误差: 19.470112974467874 \n",
      "决策树回归预测均方r2得分: 0.05047217302492746 \n",
      "\n"
     ]
    }
   ],
   "execution_count": 6
  },
  {
   "metadata": {},
   "cell_type": "code",
   "outputs": [],
   "execution_count": null,
   "source": "",
   "id": "663535268ff97c7a"
  }
 ],
 "metadata": {
  "kernelspec": {
   "display_name": "Python 3",
   "language": "python",
   "name": "python3"
  },
  "language_info": {
   "codemirror_mode": {
    "name": "ipython",
    "version": 2
   },
   "file_extension": ".py",
   "mimetype": "text/x-python",
   "name": "python",
   "nbconvert_exporter": "python",
   "pygments_lexer": "ipython2",
   "version": "2.7.6"
  }
 },
 "nbformat": 4,
 "nbformat_minor": 5
}
