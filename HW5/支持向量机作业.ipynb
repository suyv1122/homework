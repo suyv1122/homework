{
 "cells": [
  {
   "metadata": {},
   "cell_type": "markdown",
   "source": [
    "## 问答题\n",
    "1. 支持向量机的基本思想是什么？\n",
    "    · 通过找到能最大化两类样本间隔的决策边界(超平面)，实现对中小型数据集的线性或非线性分类、回归及异常检测。\n",
    "\n",
    "2. 什么是支持向量？\n",
    "    · 位于间隔边界上的、直接影响间隔位置和宽度的训练样本。\n",
    "\n",
    "3. 在使用 SVM 时，缩放输入值为什么很重要？\n",
    "    · 因为SVM对特征尺度敏感，不同尺度会导致模型偏向某个特征，从而使间隔倾斜或极端狭窄，影响分类效果。\n",
    "\n",
    "4. SVM 分类器在对实例进行分类时能输出置信度分数吗？概率呢？\n",
    "    · 可以输出置信度分数(即到决策边界的距离)，但不直接输出概率；若需要概率，可在SVC中启用probability=True, 使用 Platt 缩放估算。\n",
    "\n",
    "5. 你如何在 LinearSVC、SVC 和 SGDClassifier 之间进行选择？\n",
    "    · LinearSVC：适合中小型、线性可分的数据集，速度快，但不支持核方法。\n",
    "    · SVC：支持核方法，适合中小型且非线性数据集。\n",
    "    · SGDClassifier：适合超大规模数据集，可用随机梯度下降近似线性 SVM。\n",
    "\n",
    "6. 假设你已经使用 RBF 核训练了一个 SVM 分类器，但它似乎欠拟合训练集。\n",
    "   你应该增大还是减小 γ（gamma）？C 呢？\n",
    "   · 增大gamma会让模型拟合更细致(边界更复杂)；增大 C 会减少正则化，允许模型拟合更多样本。两者都增大有助于缓解欠拟合。\n",
    "\n",
    "7. ε 不敏感模型是什么意思？\n",
    "    · 在SVM回归(SVR)中，若预测值与真实值的差异小于ε，则视为无误差，不影响模型优化，这称为 ε 不敏感。\n",
    "\n",
    "8. 使用核技巧有什么意义？\n",
    "    · 核技巧可在低维空间中高效计算高维特征的内积，获得非线性分割能力，同时避免显式生成高维特征，减少计算成本和内存消耗。"
   ],
   "id": "a0b8b340a137572d"
  },
  {
   "metadata": {},
   "cell_type": "markdown",
   "source": [
    "## 编程题\n",
    "1. 在葡萄酒数据集上训练SVM分类器，可以使用sklearn.datasets.load_wine()加载它。该数据集包含3个不同种植者生产的178个葡萄酒样本的化学分析：目标是训练一个分类模型，该模型能够根据葡萄酒的化学分析预测种植者。由于SVM分类器是二元分类器，将需要使用“一对全部”对所有三个类进行分类。能达到的精度是多少？\n",
    "\n",
    "   \"一对全部\"可以复习 **8_sklearn做分类.ipynb**里的笔记，里面提到了用二元分类器做多分类问题\n",
    "\n",
    "---\n",
    "\n",
    "2. 提前预习 **10_支持向量机.ipynb** 最新更新的笔记 （把SVM分类用梯度下降实现）； 大概理解笔记后，尝试自己对照笔记 实现用梯度下降实现SVM分类\n",
    "\n",
    "   并把自定义的SVM分类用于 iris data(鸢尾花数据)； 取花瓣长度 和 花瓣宽度特征， 分类 看是不是 分类2的花 （(iris.target == 2)\n",
    "\n",
    "   对比下sklearn自带的SVM分类 和 自定义SVM分类 实现的分类效果\n",
    "\n"
   ],
   "id": "f5a1dfdea31badc1"
  },
  {
   "metadata": {
    "ExecuteTime": {
     "end_time": "2025-08-11T03:56:02.876404Z",
     "start_time": "2025-08-11T03:56:01.655676Z"
    }
   },
   "cell_type": "code",
   "source": [
    "from sklearn.datasets import load_wine\n",
    "from sklearn.model_selection import train_test_split\n",
    "\n",
    "# 加载数据\n",
    "wine = load_wine()\n",
    "X = wine.data\n",
    "y = wine.target\n",
    "\n",
    "# 分层采样\n",
    "X_train, X_test, y_train, y_test = train_test_split(\n",
    "    X, y, test_size=0.2, random_state=42, stratify=y\n",
    ")\n",
    "\n",
    "# 特征缩放\n",
    "from sklearn.preprocessing import StandardScaler\n",
    "scaler = StandardScaler()\n",
    "X_train_scaled = scaler.fit_transform(X_train)\n",
    "X_test_scaled = scaler.transform(X_test)\n"
   ],
   "id": "4210292c3c2ffc48",
   "outputs": [],
   "execution_count": 1
  },
  {
   "metadata": {
    "ExecuteTime": {
     "end_time": "2025-08-11T03:56:25.819806Z",
     "start_time": "2025-08-11T03:56:25.758176Z"
    }
   },
   "cell_type": "code",
   "source": [
    "from sklearn.svm import SVC\n",
    "from sklearn.model_selection import GridSearchCV\n",
    "\n",
    "svc = SVC(kernel='rbf')\n",
    "\n",
    "param_grid = {\n",
    "    'C': [0.1, 1, 10, 100],\n",
    "    'gamma': [0.01, 0.1, 1, 10]\n",
    "}\n",
    "\n",
    "# 交叉验证\n",
    "grid_search = GridSearchCV(svc, param_grid, cv=5, scoring='accuracy', n_jobs=-1)\n",
    "grid_search.fit(X_train_scaled, y_train)\n",
    "\n",
    "print(\"最佳参数:\", grid_search.best_params_)\n",
    "print(\"交叉验证最佳精度:\", grid_search.best_score_)\n",
    "\n",
    "best_svc = grid_search.best_estimator_\n",
    "test_acc = best_svc.score(X_test_scaled, y_test)\n",
    "print(\"测试集精度:\", test_acc)"
   ],
   "id": "7ec489181c6e3890",
   "outputs": [
    {
     "name": "stdout",
     "output_type": "stream",
     "text": [
      "最佳参数: {'C': 1, 'gamma': 0.1}\n",
      "交叉验证最佳精度: 0.9862068965517242\n",
      "测试集精度: 0.9722222222222222\n"
     ]
    }
   ],
   "execution_count": 3
  }
 ],
 "metadata": {
  "kernelspec": {
   "display_name": "Python 3",
   "language": "python",
   "name": "python3"
  },
  "language_info": {
   "codemirror_mode": {
    "name": "ipython",
    "version": 2
   },
   "file_extension": ".py",
   "mimetype": "text/x-python",
   "name": "python",
   "nbconvert_exporter": "python",
   "pygments_lexer": "ipython2",
   "version": "2.7.6"
  }
 },
 "nbformat": 4,
 "nbformat_minor": 5
}
