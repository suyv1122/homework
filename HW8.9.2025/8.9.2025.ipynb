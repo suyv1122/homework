{
 "cells": [
  {
   "cell_type": "code",
   "id": "initial_id",
   "metadata": {
    "collapsed": true,
    "ExecuteTime": {
     "end_time": "2025-09-08T10:39:21.137751Z",
     "start_time": "2025-09-08T10:38:59.077455Z"
    }
   },
   "source": [
    "import tensorflow as tf\n",
    "fashion_mnist = tf.keras.datasets.fashion_mnist.load_data()\n",
    "(X_train_full, y_train_full), (X_test, y_test) = fashion_mnist\n",
    "X_train, y_train = X_train_full[:-5000], y_train_full[:-5000]\n",
    "X_valid, y_valid = X_train_full[-5000:], y_train_full[-5000:]\n",
    "X_train, X_valid, X_test = X_train / 255., X_valid / 255., X_test / 255.\n",
    "# todo: 通过自定义的MCDropout类搭建模型，能不能直接复制训练好的dropout模型的权重到新模型（新模型的架构 和  dropout模型一样，只是MCDropout替换了Dropout), 复制完后，看看预测的效果，指定蒙特卡洛样本数量\n",
    "model = tf.keras.Sequential([\n",
    "    tf.keras.layers.Flatten(input_shape=[28, 28]),\n",
    "    tf.keras.layers.Dropout(rate=0.2),\n",
    "\ttf.keras.layers.Dense(100, activation=\"relu\", kernel_initializer=\"he_normal\"),\n",
    "    tf.keras.layers.Dropout(rate=0.2),\n",
    "    tf.keras.layers.Dense(100, activation=\"relu\", kernel_initializer=\"he_normal\"),\n",
    "    tf.keras.layers.Dropout(rate=0.2),\n",
    "    tf.keras.layers.Dense(10, activation=\"softmax\")\n",
    "])\n",
    "optimizer = tf.keras.optimizers.legacy.SGD(learning_rate=0.01, momentum=0.9)\n",
    "model.compile(loss=\"sparse_categorical_crossentropy\", optimizer=optimizer, metrics=[\"accuracy\"])\n",
    "\n",
    "history = model.fit(X_train, y_train, epochs=10, validation_data=(X_valid, y_valid))"
   ],
   "outputs": [
    {
     "name": "stdout",
     "output_type": "stream",
     "text": [
      "Epoch 1/10\n",
      "   1/1719 [..............................] - ETA: 5:00 - loss: 2.4681 - accuracy: 0.1562"
     ]
    },
    {
     "name": "stderr",
     "output_type": "stream",
     "text": [
      "2025-09-08 18:39:02.747322: W tensorflow/tsl/platform/profile_utils/cpu_utils.cc:128] Failed to get CPU frequency: 0 Hz\n"
     ]
    },
    {
     "name": "stdout",
     "output_type": "stream",
     "text": [
      "1719/1719 [==============================] - 2s 1ms/step - loss: 0.6675 - accuracy: 0.7542 - val_loss: 0.4576 - val_accuracy: 0.8346\n",
      "Epoch 2/10\n",
      "1719/1719 [==============================] - 2s 1ms/step - loss: 0.5119 - accuracy: 0.8130 - val_loss: 0.4110 - val_accuracy: 0.8460\n",
      "Epoch 3/10\n",
      "1719/1719 [==============================] - 2s 1ms/step - loss: 0.4710 - accuracy: 0.8247 - val_loss: 0.3878 - val_accuracy: 0.8544\n",
      "Epoch 4/10\n",
      "1719/1719 [==============================] - 2s 1ms/step - loss: 0.4471 - accuracy: 0.8341 - val_loss: 0.3891 - val_accuracy: 0.8530\n",
      "Epoch 5/10\n",
      "1719/1719 [==============================] - 2s 1ms/step - loss: 0.4319 - accuracy: 0.8398 - val_loss: 0.3672 - val_accuracy: 0.8606\n",
      "Epoch 6/10\n",
      "1719/1719 [==============================] - 2s 1ms/step - loss: 0.4175 - accuracy: 0.8447 - val_loss: 0.3580 - val_accuracy: 0.8662\n",
      "Epoch 7/10\n",
      "1719/1719 [==============================] - 2s 971us/step - loss: 0.4110 - accuracy: 0.8485 - val_loss: 0.3519 - val_accuracy: 0.8700\n",
      "Epoch 8/10\n",
      "1719/1719 [==============================] - 2s 1ms/step - loss: 0.4022 - accuracy: 0.8511 - val_loss: 0.3427 - val_accuracy: 0.8772\n",
      "Epoch 9/10\n",
      "1719/1719 [==============================] - 2s 991us/step - loss: 0.3966 - accuracy: 0.8528 - val_loss: 0.3513 - val_accuracy: 0.8722\n",
      "Epoch 10/10\n",
      "1719/1719 [==============================] - 2s 1ms/step - loss: 0.3907 - accuracy: 0.8552 - val_loss: 0.3519 - val_accuracy: 0.8672\n"
     ]
    }
   ],
   "execution_count": 1
  },
  {
   "metadata": {
    "ExecuteTime": {
     "end_time": "2025-09-08T10:39:25.634364Z",
     "start_time": "2025-09-08T10:39:21.149062Z"
    }
   },
   "cell_type": "code",
   "source": [
    "class MCDropout(tf.keras.layers.Dropout):\n",
    "    def call(self, inputs, training=False):\n",
    "        return super().call(inputs, training=True)\n",
    "\n",
    "MCDrop_model = tf.keras.Sequential([\n",
    "    tf.keras.layers.Flatten(input_shape=[28, 28]),\n",
    "    MCDropout(0.2),\n",
    "\ttf.keras.layers.Dense(100, activation=\"relu\", kernel_initializer=\"he_normal\"),\n",
    "    MCDropout(0.2),\n",
    "    tf.keras.layers.Dense(100, activation=\"relu\", kernel_initializer=\"he_normal\"),\n",
    "    MCDropout(0.2),\n",
    "    tf.keras.layers.Dense(10, activation=\"softmax\")\n",
    "])\n",
    "MCDrop_model.set_weights(model.get_weights())\n",
    "\n",
    "import numpy as np\n",
    "y_probas = np.stack([MCDrop_model(X_test) for sample in range(100)])\n",
    "y_proba = y_probas.mean(axis=0)\n",
    "y_pred = np.argmax(y_proba, axis=1)\n",
    "print(f\"accuracy: {np.mean(y_pred == y_test)}\")"
   ],
   "id": "97f22c0d3532c19d",
   "outputs": [
    {
     "name": "stdout",
     "output_type": "stream",
     "text": [
      "accuracy: 0.8606\n"
     ]
    }
   ],
   "execution_count": 2
  },
  {
   "metadata": {
    "ExecuteTime": {
     "end_time": "2025-09-08T10:39:25.702784Z",
     "start_time": "2025-09-08T10:39:25.696757Z"
    }
   },
   "cell_type": "code",
   "source": [
    "# todo: 随堂练习：实验目标：Dropout vs AlphaDropout 对比（针对 SELU 激活函数）\n",
    "\n",
    "def build_model(use_alphaDropout=False):\n",
    "    if use_alphaDropout is False:\n",
    "        model = tf.keras.Sequential([\n",
    "            tf.keras.layers.Flatten(input_shape=(28,28)),\n",
    "            tf.keras.layers.Dropout(rate=0.2),\n",
    "            tf.keras.layers.Dense(100, activation=\"relu\", kernel_initializer=\"he_normal\"),\n",
    "            tf.keras.layers.Dropout(rate=0.2),\n",
    "            tf.keras.layers.Dense(100, activation=\"relu\", kernel_initializer=\"he_normal\"),\n",
    "            tf.keras.layers.Dropout(rate=0.2),\n",
    "            tf.keras.layers.Dense(10, activation='softmax')\n",
    "        ])\n",
    "        optimizer = tf.keras.optimizers.legacy.SGD(learning_rate=0.01, momentum=0.9, nesterov=True)\n",
    "        model.compile(loss=\"sparse_categorical_crossentropy\",optimizer=optimizer,metrics=[\"accuracy\"])\n",
    "        history = model.fit(X_train, y_train, epochs=10, validation_data=(X_valid, y_valid))\n",
    "        return history\n",
    "    else:\n",
    "        model = tf.keras.Sequential([\n",
    "            tf.keras.layers.Flatten(input_shape=(28,28)),\n",
    "            tf.keras.layers.AlphaDropout(0.2),\n",
    "            tf.keras.layers.Dense(100, activation=\"selu\", kernel_initializer=\"lecun_normal\"),\n",
    "            tf.keras.layers.AlphaDropout(rate=0.2),\n",
    "            tf.keras.layers.Dense(100, activation=\"selu\", kernel_initializer=\"lecun_normal\"),\n",
    "            tf.keras.layers.AlphaDropout(rate=0.2),\n",
    "            tf.keras.layers.Dense(10, activation='softmax')\n",
    "        ])\n",
    "        pixel_means = X_train.mean(axis=0, keepdims=True)\n",
    "        pixel_stds = X_train.std(axis=0, keepdims=True)\n",
    "        X_train_scaled = (X_train - pixel_means) / pixel_stds\n",
    "        X_valid_scaled = (X_valid - pixel_means) / pixel_stds\n",
    "        X_test_scaled = (X_test - pixel_means) / pixel_stds\n",
    "        optimizer = tf.keras.optimizers.legacy.SGD(learning_rate=0.01, momentum=0.9, nesterov=True)\n",
    "        model.compile(loss=\"sparse_categorical_crossentropy\",optimizer=optimizer,metrics=[\"accuracy\"])\n",
    "        history = model.fit(X_train_scaled, y_train, epochs=10, validation_data=(X_valid_scaled, y_valid))\n",
    "        return history"
   ],
   "id": "ec9d2b8e50f99d42",
   "outputs": [],
   "execution_count": 3
  },
  {
   "metadata": {
    "ExecuteTime": {
     "end_time": "2025-09-08T10:39:45.318984Z",
     "start_time": "2025-09-08T10:39:25.729334Z"
    }
   },
   "cell_type": "code",
   "source": "build_model()",
   "id": "504b2fc34c2ed377",
   "outputs": [
    {
     "name": "stdout",
     "output_type": "stream",
     "text": [
      "Epoch 1/10\n",
      "1719/1719 [==============================] - 2s 1ms/step - loss: 0.6678 - accuracy: 0.7569 - val_loss: 0.4484 - val_accuracy: 0.8320\n",
      "Epoch 2/10\n",
      "1719/1719 [==============================] - 2s 1ms/step - loss: 0.5077 - accuracy: 0.8143 - val_loss: 0.4188 - val_accuracy: 0.8420\n",
      "Epoch 3/10\n",
      "1719/1719 [==============================] - 2s 1ms/step - loss: 0.4696 - accuracy: 0.8264 - val_loss: 0.3966 - val_accuracy: 0.8488\n",
      "Epoch 4/10\n",
      "1719/1719 [==============================] - 2s 1ms/step - loss: 0.4480 - accuracy: 0.8364 - val_loss: 0.3912 - val_accuracy: 0.8526\n",
      "Epoch 5/10\n",
      "1719/1719 [==============================] - 2s 1ms/step - loss: 0.4376 - accuracy: 0.8410 - val_loss: 0.3536 - val_accuracy: 0.8670\n",
      "Epoch 6/10\n",
      "1719/1719 [==============================] - 2s 1ms/step - loss: 0.4227 - accuracy: 0.8453 - val_loss: 0.3543 - val_accuracy: 0.8678\n",
      "Epoch 7/10\n",
      "1719/1719 [==============================] - 2s 1ms/step - loss: 0.4116 - accuracy: 0.8480 - val_loss: 0.3528 - val_accuracy: 0.8668\n",
      "Epoch 8/10\n",
      "1719/1719 [==============================] - 2s 1ms/step - loss: 0.4032 - accuracy: 0.8511 - val_loss: 0.3480 - val_accuracy: 0.8694\n",
      "Epoch 9/10\n",
      "1719/1719 [==============================] - 2s 1ms/step - loss: 0.3976 - accuracy: 0.8540 - val_loss: 0.3447 - val_accuracy: 0.8726\n",
      "Epoch 10/10\n",
      "1719/1719 [==============================] - 2s 1ms/step - loss: 0.3920 - accuracy: 0.8544 - val_loss: 0.3423 - val_accuracy: 0.8730\n"
     ]
    },
    {
     "data": {
      "text/plain": [
       "<keras.callbacks.History at 0x16a5b74f0>"
      ]
     },
     "execution_count": 4,
     "metadata": {},
     "output_type": "execute_result"
    }
   ],
   "execution_count": 4
  },
  {
   "metadata": {
    "ExecuteTime": {
     "end_time": "2025-09-08T10:40:04.583720Z",
     "start_time": "2025-09-08T10:39:45.338622Z"
    }
   },
   "cell_type": "code",
   "source": "build_model(True)",
   "id": "648f8136d4aaf0cb",
   "outputs": [
    {
     "name": "stdout",
     "output_type": "stream",
     "text": [
      "Epoch 1/10\n",
      "1719/1719 [==============================] - 2s 1ms/step - loss: 0.6806 - accuracy: 0.7538 - val_loss: 0.5334 - val_accuracy: 0.8382\n",
      "Epoch 2/10\n",
      "1719/1719 [==============================] - 2s 1ms/step - loss: 0.5615 - accuracy: 0.7935 - val_loss: 0.5180 - val_accuracy: 0.8442\n",
      "Epoch 3/10\n",
      "1719/1719 [==============================] - 2s 1ms/step - loss: 0.5317 - accuracy: 0.8037 - val_loss: 0.4979 - val_accuracy: 0.8446\n",
      "Epoch 4/10\n",
      "1719/1719 [==============================] - 2s 1ms/step - loss: 0.5158 - accuracy: 0.8100 - val_loss: 0.4756 - val_accuracy: 0.8510\n",
      "Epoch 5/10\n",
      "1719/1719 [==============================] - 2s 1ms/step - loss: 0.4989 - accuracy: 0.8149 - val_loss: 0.4625 - val_accuracy: 0.8602\n",
      "Epoch 6/10\n",
      "1719/1719 [==============================] - 2s 1ms/step - loss: 0.4871 - accuracy: 0.8189 - val_loss: 0.4641 - val_accuracy: 0.8560\n",
      "Epoch 7/10\n",
      "1719/1719 [==============================] - 2s 1ms/step - loss: 0.4815 - accuracy: 0.8218 - val_loss: 0.5056 - val_accuracy: 0.8514\n",
      "Epoch 8/10\n",
      "1719/1719 [==============================] - 2s 1ms/step - loss: 0.4750 - accuracy: 0.8247 - val_loss: 0.4839 - val_accuracy: 0.8580\n",
      "Epoch 9/10\n",
      "1719/1719 [==============================] - 2s 1ms/step - loss: 0.4676 - accuracy: 0.8261 - val_loss: 0.4625 - val_accuracy: 0.8606\n",
      "Epoch 10/10\n",
      "1719/1719 [==============================] - 2s 1ms/step - loss: 0.4620 - accuracy: 0.8278 - val_loss: 0.4397 - val_accuracy: 0.8612\n"
     ]
    },
    {
     "data": {
      "text/plain": [
       "<keras.callbacks.History at 0x16c83c940>"
      ]
     },
     "execution_count": 5,
     "metadata": {},
     "output_type": "execute_result"
    }
   ],
   "execution_count": 5
  },
  {
   "metadata": {
    "ExecuteTime": {
     "end_time": "2025-09-08T10:40:04.606910Z",
     "start_time": "2025-09-08T10:40:04.600699Z"
    }
   },
   "cell_type": "code",
   "source": [
    "def build_model(seed=42):\n",
    "    tf.random.set_seed(seed)\n",
    "    return tf.keras.Sequential([\n",
    "        tf.keras.layers.Flatten(input_shape=[28, 28]),\n",
    "        tf.keras.layers.Dense(100, activation=\"relu\",\n",
    "                              kernel_initializer=\"he_normal\"),\n",
    "        tf.keras.layers.Dense(100, activation=\"relu\",\n",
    "                              kernel_initializer=\"he_normal\"),\n",
    "        tf.keras.layers.Dense(100, activation=\"relu\",\n",
    "                              kernel_initializer=\"he_normal\"),\n",
    "        tf.keras.layers.Dense(10, activation=\"softmax\")\n",
    "    ])\n",
    "\n",
    "def build_and_train_model(optimizer):\n",
    "    model = build_model()\n",
    "    model.compile(loss=\"sparse_categorical_crossentropy\", optimizer=optimizer,\n",
    "                  metrics=[\"accuracy\"])\n",
    "    return model.fit(X_train, y_train, epochs=5,\n",
    "                     validation_data=(X_valid, y_valid))"
   ],
   "id": "c48b22ec4741eac8",
   "outputs": [],
   "execution_count": 6
  },
  {
   "metadata": {
    "ExecuteTime": {
     "end_time": "2025-09-08T10:40:11.908383Z",
     "start_time": "2025-09-08T10:40:04.610136Z"
    }
   },
   "cell_type": "code",
   "source": [
    "# todo: 填充如下代码，最终训练 用了最大范数正则化技术的 神经网络\n",
    "from functools import partial\n",
    "MaxNormDense = partial(\n",
    "    tf.keras.layers.Dense,\n",
    "    activation='relu',\n",
    "    kernel_initializer='he_normal',\n",
    "    kernel_regularizer=tf.keras.constraints.max_norm(1.)\n",
    ") # todo：使用partial 冻结Dense的除了神经元数量的其他参数， 指定使用最大范数正则化\n",
    "\n",
    "model = tf.keras.Sequential([\n",
    "    tf.keras.layers.Flatten(input_shape=(28,28)),\n",
    "    MaxNormDense(100),\n",
    "    MaxNormDense(100),\n",
    "    MaxNormDense(10, activation='softmax')\n",
    "]) # todo：使用Sequential搭建 2个隐藏层，每个都100神经元的网络 （使用上MaxNormDense）\n",
    "optimizer = tf.keras.optimizers.legacy.SGD(learning_rate=0.001, momentum=0.9, nesterov=True) # todo: 创建使用动量优化的优化器\n",
    "\n",
    "... # todo: 编译模型\n",
    "history = build_and_train_model(optimizer) # todo: 训练模型"
   ],
   "id": "3f08af2882279eb3",
   "outputs": [
    {
     "name": "stdout",
     "output_type": "stream",
     "text": [
      "Epoch 1/5\n",
      "1719/1719 [==============================] - 2s 878us/step - loss: 0.6686 - accuracy: 0.7751 - val_loss: 0.4940 - val_accuracy: 0.8240\n",
      "Epoch 2/5\n",
      "1719/1719 [==============================] - 1s 777us/step - loss: 0.4560 - accuracy: 0.8404 - val_loss: 0.4348 - val_accuracy: 0.8410\n",
      "Epoch 3/5\n",
      "1719/1719 [==============================] - 1s 829us/step - loss: 0.4128 - accuracy: 0.8545 - val_loss: 0.4041 - val_accuracy: 0.8544\n",
      "Epoch 4/5\n",
      "1719/1719 [==============================] - 1s 773us/step - loss: 0.3864 - accuracy: 0.8644 - val_loss: 0.3796 - val_accuracy: 0.8618\n",
      "Epoch 5/5\n",
      "1719/1719 [==============================] - 1s 831us/step - loss: 0.3659 - accuracy: 0.8699 - val_loss: 0.3686 - val_accuracy: 0.8640\n"
     ]
    }
   ],
   "execution_count": 7
  }
 ],
 "metadata": {
  "kernelspec": {
   "display_name": "Python 3",
   "language": "python",
   "name": "python3"
  },
  "language_info": {
   "codemirror_mode": {
    "name": "ipython",
    "version": 2
   },
   "file_extension": ".py",
   "mimetype": "text/x-python",
   "name": "python",
   "nbconvert_exporter": "python",
   "pygments_lexer": "ipython2",
   "version": "2.7.6"
  }
 },
 "nbformat": 4,
 "nbformat_minor": 5
}
